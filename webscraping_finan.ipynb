{
 "cells": [
  {
   "cell_type": "markdown",
   "id": "db13ffa5",
   "metadata": {},
   "source": [
    "## Web scraping financial data"
   ]
  },
  {
   "cell_type": "code",
   "execution_count": 1,
   "id": "636bbe79",
   "metadata": {},
   "outputs": [],
   "source": [
    "#install relevant pkgs\n",
    "\n",
    "import requests\n",
    "from bs4 import BeautifulSoup\n",
    "import pandas as pd\n",
    "import win32com.client as win32"
   ]
  },
  {
   "cell_type": "code",
   "execution_count": 2,
   "id": "374378f7",
   "metadata": {},
   "outputs": [],
   "source": [
    "# create a list of tickers of companies our interest\n",
    "\n",
    "tickers = ['fb', 'tsla', 'aapl', 'amzn']"
   ]
  },
  {
   "cell_type": "code",
   "execution_count": 4,
   "id": "3fd6ba82",
   "metadata": {},
   "outputs": [],
   "source": [
    "#take headers to proced web scraping\n",
    "headers = {'user-agent' : \"Mozilla/5.0 (Macintosh; Intel Mac OS X 10_15_2) AppleWebKit/605.1.15 (KHTML, like Gecko) Safari/605.1.15 Version/13.0.4\"}"
   ]
  },
  {
   "cell_type": "code",
   "execution_count": 5,
   "id": "14b1b929",
   "metadata": {},
   "outputs": [],
   "source": [
    "#save the data in xls spreadsheet\n",
    "xlApp = win32.Dispatch('Excel.Application')\n",
    "xlApp.Visible = True\n",
    "wb = xlApp.Workbooks.Add()"
   ]
  },
  {
   "cell_type": "code",
   "execution_count": 6,
   "id": "84eb79be",
   "metadata": {},
   "outputs": [],
   "source": [
    "# create a loop to scrap the data from marketwatch.com\n",
    "    #in this case, we will scrap the relevant information to apply a financial analysis.\n",
    "for ticker in tickers:\n",
    "    url = 'https://www.marketwatch.com/investing/stock/{0}/company-profile'.format(ticker)\n",
    "    response = requests.get(url, headers=headers)\n",
    "    soup = BeautifulSoup(response.content, 'html.parser')\n",
    "    \n",
    "    financial_info = {}\n",
    "    element_tables = soup.select('div [class=\"element element--table\"]')   #here we scrap the info\n",
    "        \n",
    "    for x in element_tables:                        \n",
    "        valuation_type = x.h2.text.strip()          \n",
    "        df = pd.read_html(str(x))[0]                \n",
    "        financial_info[valuation_type] = df           \n",
    "    \n",
    "    ws = wb.Worksheets.Add()  #exporting the data in a different worksheet\n",
    "    ws.name = ticker\n",
    "    \n",
    "    row_spacing = 2\n",
    "    \n",
    "    for table in financial_info.items():\n",
    "        lastrow = ws.Cells(ws.rows.count, 1).End(-4162).row  \n",
    "        ws.cells(lastrow+row_spacing, 1).value = table[0]       #header from each table\n",
    "        ws.cells(lastrow+row_spacing, 1).font.bold =True         #font\n",
    "        \n",
    "        ws.Range(\n",
    "            ws.cells(lastrow+row_spacing+1, 1),                     #adding the data!\n",
    "            ws.cells(lastrow+table[1].shape[0]+row_spacing, table[1].shape[1])  \n",
    "        ).value = table[1].values\n",
    "        \n",
    "    ws.Rows('1:' + str(row_spacing)).delete\n",
    "    ws.columns(1).columnwidth = 30\n",
    "    ws.columns(1).columnwidth = 15  "
   ]
  }
 ],
 "metadata": {
  "kernelspec": {
   "display_name": "Python 3 (ipykernel)",
   "language": "python",
   "name": "python3"
  },
  "language_info": {
   "codemirror_mode": {
    "name": "ipython",
    "version": 3
   },
   "file_extension": ".py",
   "mimetype": "text/x-python",
   "name": "python",
   "nbconvert_exporter": "python",
   "pygments_lexer": "ipython3",
   "version": "3.9.7"
  }
 },
 "nbformat": 4,
 "nbformat_minor": 5
}
